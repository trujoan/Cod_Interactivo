{
  "nbformat": 4,
  "nbformat_minor": 0,
  "metadata": {
    "colab": {
      "provenance": [],
      "authorship_tag": "ABX9TyO1xvIawj9U0Qq/7snmz4OB",
      "include_colab_link": true
    },
    "kernelspec": {
      "name": "python3",
      "display_name": "Python 3"
    },
    "language_info": {
      "name": "python"
    }
  },
  "cells": [
    {
      "cell_type": "markdown",
      "metadata": {
        "id": "view-in-github",
        "colab_type": "text"
      },
      "source": [
        "<a href=\"https://colab.research.google.com/github/trujoan/Cod_Interactivo/blob/main/Red_de_rios.ipynb\" target=\"_parent\"><img src=\"https://colab.research.google.com/assets/colab-badge.svg\" alt=\"Open In Colab\"/></a>"
      ]
    },
    {
      "cell_type": "markdown",
      "source": [
        "Mapa ilustrativo de los rios"
      ],
      "metadata": {
        "id": "L2KrgIVAggLe"
      }
    },
    {
      "cell_type": "code",
      "execution_count": 1,
      "metadata": {
        "colab": {
          "base_uri": "https://localhost:8080/",
          "height": 106
        },
        "id": "jvRkSr5vf7hq",
        "outputId": "6fc97ca4-ac61-4763-8982-3735abb494f7"
      },
      "outputs": [
        {
          "output_type": "error",
          "ename": "SyntaxError",
          "evalue": "unterminated string literal (detected at line 28) (<ipython-input-1-fbe2bd698a61>, line 28)",
          "traceback": [
            "\u001b[0;36m  File \u001b[0;32m\"<ipython-input-1-fbe2bd698a61>\"\u001b[0;36m, line \u001b[0;32m28\u001b[0m\n\u001b[0;31m    '804 km', '2,280 km', '380 km\u001b[0m\n\u001b[0m                          ^\u001b[0m\n\u001b[0;31mSyntaxError\u001b[0m\u001b[0;31m:\u001b[0m unterminated string literal (detected at line 28)\n"
          ]
        }
      ],
      "source": [
        "import folium\n",
        "from google.colab import files\n",
        "rios_data = {\n",
        " 'nombre': [\n",
        " 'Río Magdalena', 'Río Cauca', 'Río Amazonas', 'Río Orinoco',\n",
        " 'Río Meta', 'Río Caquetá', 'Río Bogotá'\n",
        " ],\n",
        " 'x': [\n",
        " 4.0, # Latitudes (Ejemplo de coordenadas aproximadas)\n",
        " 3.5,\n",
        " -3.1,\n",
        " 4.5,\n",
        " 3.2,\n",
        " 1.8,\n",
        " 4.2\n",
        " ],\n",
        " 'y': [\n",
        " -74.0, # Longitudes (Ejemplo de coordenadas aproximadas)\n",
        " -75.0,\n",
        " -60.2,\n",
        " -67.5,\n",
        " -72.5,\n",
        " -69.0,\n",
        " -73.5\n",
        " ],\n",
        "  'longitud': [\n",
        " '1,528 km', '965 km', '7,062 km', '2,140 km',\n",
        " '804 km', '2,280 km', '380 km\n",
        " ],\n",
        " 'caudal': [\n",
        " '7,200 m³/s', '2,200 m³/s', '209,000 m³/s', '33,000 m³/s',\n",
        " '6,800 m³/s', '12,200 m³/s', '20 m³/s'\n",
        " ],\n",
        " 'imagen': [\n",
        " 'https://s3.amazonaws.com/rtvc-assets-canalinstitucional.tv/s3fs-public/2021-\n",
        "11/Cinco%20para%C3%ADsos%20poco%20conocidos%20del%20R%C3%ADo%20Magdalena.jpg'\n",
        ",\n",
        " 'https://rutasdelconflicto.com/rios-vida-muerte/sites/default/files/Portada_HOME.jpg',\n",
        " 'https://riosdelplaneta.com/wp-content/uploads/2017/11/rio-amazonas-11-1024x640.jpg',\n",
        " 'https://riosdelplaneta.com/wp-content/uploads/2017/11/rio-orinoco-20.jpg',\n",
        " 'https://regionorinoquia.com/wp-content/uploads/2022/06/meta-1024x683.jpg',\n",
        " 'https://live.staticflickr.com/65535/52414260084_02c1dab508_b.jpg',\n",
        " 'https://media.metrolatam.com/2018/06/25/dsc01551-f62816013d8202336b6a4495fbe37ae1-\n",
        "1200x800.jpg'\n",
        " ],\n",
        " 'importancia_cultural': [\n",
        " 'Es un símbolo nacional, vital para el transporte y la economía del país.',\n",
        " 'El río Cauca es históricamente relevante en la lucha por la independencia de Colombia.',\n",
        " 'El Amazonas es sagrado para varias comunidades indígenas de la región.',\n",
        " 'El Orinoco es considerado la \"carretera fluvial\" para muchas poblaciones en Colombia y\n",
        "Venezuela.',\n",
        " 'El Meta es crucial para las actividades ganaderas y agrícolas de la región de los Llanos.',\n",
        " 'El Caquetá es una vía principal para el acceso a la región amazónica colombiana.',\n",
        " 'El río Bogotá fue históricamente un eje para el comercio y transporte en la zona central del\n",
        "país.'\n",
        " ]\n",
        "}\n",
        "\n",
        "m = folium.Map(location=[4.0, -73.0], zoom_start=6)\n",
        "# Función para crear la ventana emergente con los detalles\n",
        "def create_popup(index):\n",
        " # Datos_Rio\n",
        " html = f\"\"\"\n",
        " <h3>{rios_data['nombre'][index]}</h3>\n",
        " <p><b>Longitud:</b> {rios_data['longitud'][index]}</p>\n",
        " <p><b>Caudal:</b> {rios_data['caudal'][index]}</p>\n",
        " <p><b>Importancia Cultural:</b> {rios_data['importancia_cultural'][index]}</p>\n",
        " <img src=\"{rios_data['imagen'][index]}\" width=\"250px\">\n",
        " \"\"\"\n",
        " return folium.Popup(html, max_width=400)\n",
        "# Marcadores para cada río\n",
        "for i in range(len(rios_data['nombre'])):\n",
        " folium.Marker(\n",
        " location=[rios_data['x'][i], rios_data['y'][i]],\n",
        " popup=create_popup(i),\n",
        " icon=folium.Icon(color=\"blue\", icon=\"info-sign\")\n",
        " ).add_to(m)\n",
        "map_file_path = '/content/mapa_interactivo.html'\n",
        "m.save(map_file_path)\n",
        "files.download(map_file_path)"
      ]
    }
  ]
}