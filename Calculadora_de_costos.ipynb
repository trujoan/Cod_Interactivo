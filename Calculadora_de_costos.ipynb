{
  "nbformat": 4,
  "nbformat_minor": 0,
  "metadata": {
    "colab": {
      "provenance": [],
      "authorship_tag": "ABX9TyMK5OHpsL+6drfQsQBD594K",
      "include_colab_link": true
    },
    "kernelspec": {
      "name": "python3",
      "display_name": "Python 3"
    },
    "language_info": {
      "name": "python"
    }
  },
  "cells": [
    {
      "cell_type": "markdown",
      "metadata": {
        "id": "view-in-github",
        "colab_type": "text"
      },
      "source": [
        "<a href=\"https://colab.research.google.com/github/trujoan/Cod_Interactivo/blob/main/Calculadora_de_costo.ipynb\" target=\"_parent\"><img src=\"https://colab.research.google.com/assets/colab-badge.svg\" alt=\"Open In Colab\"/></a>"
      ]
    },
    {
      "cell_type": "markdown",
      "source": [
        "calculadora de costos fijos, variables, c/u de producto, inversión total, Ganancua unitaria, ganancia total y punto de equilibrio"
      ],
      "metadata": {
        "id": "18kRE8aqnVPe"
      }
    },
    {
      "cell_type": "code",
      "execution_count": null,
      "metadata": {
        "id": "j04533FAnUcG"
      },
      "outputs": [],
      "source": [
        "import numpy as np\n",
        "texto = \"Hola, bienvenid@ a la calculadora de costos. A partir de la siguiente\n",
        "información:\"\n",
        "print(texto)\n",
        "print(\"\")\n",
        "print(\"- Nombre Producto\")\n",
        "print(\"- Costo de producción\")\n",
        "print(\"- Volumen de producción\")\n",
        "print(\"- Proyección de ventas\")\n",
        "print(\"\")\n",
        "print(\"Te ayudaremos a calcular:\")\n",
        "print(\"\")\n",
        "print(\"- Total de costos fijos\")\n",
        "print(\"- Total de costos variables\")\n",
        "print(\"-Costo unitario del producto\")\n",
        "print(\"- Inversión total requerida\")\n",
        "print(\"- Ganancia unitaria\")\n",
        "print(\"- Ganancia total\")\n",
        "print(\"- Punto de equilibrio\")\n",
        "print(\"\")\n",
        "# Solicitar el nombre del producto\n",
        "producto = input(\"Ingrese el nombre del producto: \")\n",
        "# Recoger costos fijos\n",
        "costos_fijos = []\n",
        "agregar_mas = \"si\"\n",
        "print(\"Tenga en cuenta la siguiente informacion para llenar los campos\")\n",
        "print(\"\")\n",
        "print(\"- En los costos fijos podras agregar inversion inicial de eqipos (hornos,\n",
        "indumentaria de cocina, maquimas, etc.), alquiler o arrendamientos, salarios del\n",
        "personal, otros costos fijos.\")\n",
        "print(\"- El tiempo de amortizacion aplica para maquinaria o indumentaria y\n",
        "corresponde al tiempo en el que se espera recuperar la inversion (en meses); si\n",
        "no aplica coloque 1)\")\n",
        "print(\"- En costos variables puedes agregar todo lo que corresponda a materia\n",
        "prima\")\n",
        "print(\"- Para la cantidad de produccion posible puede tener en cuenta el\n",
        "siguiente ejemplo: Con 1kg de fresas que cuestan 13,000 COP puedo hacer *10*\n",
        "jugos\")\n",
        "print(\"\\n--- Comenzaremos con los Costos Fijos ---\")\n",
        "while agregar_mas.lower() == \"si\":\n",
        " nombre = input(\"Ingrese el nombre del costo fijo: \")\n",
        " precio = float(input(f\"Ingrese el costo de {nombre} en COP: \"))\n",
        " tiempo_amortizacion = int(input(\"Ingrese el tiempo de amortización \"))\n",
        " costos_fijos.append({\"nombre\": nombre, \"precio\": precio, \"amortizacion\":\n",
        "tiempo_amortizacion})\n",
        " agregar_mas = input(\"¿Desea agregar otro costo fijo? (si/no): \")\n",
        "# Recoger costos variables\n",
        "costos_variables = []\n",
        "agregar_mas = \"si\"\n",
        "print(\"\\n--- Ingreso de Costos Variables ---\")\n",
        "while agregar_mas.lower() == \"si\":\n",
        " nombre = input(\"Ingrese el nombre del costo variable: \")\n",
        " precio = float(input(f\"Ingrese el costo de {nombre} en COP: \"))\n",
        " cantidad_produccion = int(input(f\"Ingrese la cantidad de unidades que se\n",
        "pueden producir con {nombre} \"))\n",
        " costos_variables.append({\"nombre\": nombre, \"precio\": precio,\n",
        "\"cantidad_produccion\": cantidad_produccion})\n",
        " agregar_mas = input(\"¿Desea agregar otro costo variable? (si/no): \")\n",
        "# Solicitar la cantidad de unidades a producir\n",
        "unidades_a_producir = int(input(\"\\nIngrese la cantidad de unidades que desea\n",
        "producir de su producto : \"))\n",
        "\n",
        "# Solicitar el margen de ganancia deseado\n",
        "margen_ganancia = float(input(\"Ingrese el margen de ganancia deseado (en\n",
        "porcentaje, por ejemplo 20 para 20%): \")) / 100\n",
        "# Calcular costos fijos mensuales\n",
        "total_costos_fijos = sum(costo[\"precio\"] / costo[\"amortizacion\"] for costo in\n",
        "costos_fijos)\n",
        "# Calcular costos variables totales\n",
        "total_costos_variables = sum((costo[\"precio\"] / costo[\"cantidad_produccion\"]) *\n",
        "unidades_a_producir for costo in costos_variables)\n",
        "# Calcular el costo unitario\n",
        "costo_unitario = (total_costos_fijos + total_costos_variables) /\n",
        "unidades_a_producir\n",
        "\n",
        "# Calcular la inversión total\n",
        "inversion_total = total_costos_fijos + total_costos_variables\n",
        "# Calcular la ganancia unitaria\n",
        "ganancia_unitaria = costo_unitario * margen_ganancia\n",
        "# Calcular el precio de venta\n",
        "precio_venta = costo_unitario + ganancia_unitaria\n",
        "# Calcular la ganancia total\n",
        "ganancia_total = ganancia_unitaria * unidades_a_producir\n",
        "# Calcular el punto de equilibrio\n",
        "if precio_venta > costo_unitario:\n",
        " punto_equilibrio = total_costos_fijos / (precio_venta - costo_unitario)\n",
        "else:\n",
        " punto_equilibrio = float('inf') # No hay punto de equilibrio si el precio de\n",
        "venta no cubre los costos\n",
        "# Mostrar los resultados\n",
        "print(\"\\n--- Resultados ---\")\n",
        "print(f\"Producto: {producto}\")\n",
        "print(f\"Total de costos fijos: {total_costos_fijos:.2f} COP\")\n",
        "print(f\"Total de costos variables: {total_costos_variables:.2f} COP\")\n",
        "print(f\"Costo unitario del producto: {costo_unitario:.2f} COP\")\n",
        "print(f\"Inversión total requerida: {inversion_total:.2f} COP\")\n",
        "print(f\"Ganancia unitaria: {ganancia_unitaria:.2f} COP\")\n",
        "print(f\"Precio de venta recomendado: {precio_venta:.2f} COP\")\n",
        "print(f\"Ganancia total esperada: {ganancia_total:.2f} COP\")\n",
        "if punto_equilibrio != float('inf'):\n",
        " print(f\"Punto de equilibrio: {punto_equilibrio:.2f} unidades\")\n",
        "else:\n",
        " print(\"No hay punto de equilibrio alcanzable con el precio de venta actual.\")"
      ]
    }
  ]
}
