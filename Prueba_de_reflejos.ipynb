{
  "nbformat": 4,
  "nbformat_minor": 0,
  "metadata": {
    "colab": {
      "provenance": [],
      "authorship_tag": "ABX9TyPD1y20oHzVgWk0cqr3daOM",
      "include_colab_link": true
    },
    "kernelspec": {
      "name": "python3",
      "display_name": "Python 3"
    },
    "language_info": {
      "name": "python"
    }
  },
  "cells": [
    {
      "cell_type": "markdown",
      "metadata": {
        "id": "view-in-github",
        "colab_type": "text"
      },
      "source": [
        "<a href=\"https://colab.research.google.com/github/trujoan/Cod_Interactivo/blob/main/Prueba_de_reflejos.ipynb\" target=\"_parent\"><img src=\"https://colab.research.google.com/assets/colab-badge.svg\" alt=\"Open In Colab\"/></a>"
      ]
    },
    {
      "cell_type": "code",
      "execution_count": 1,
      "metadata": {
        "colab": {
          "base_uri": "https://localhost:8080/",
          "height": 526
        },
        "id": "KsqyudRJlB1r",
        "outputId": "69ecec24-6b71-4078-f86b-4f820154462c"
      },
      "outputs": [
        {
          "output_type": "display_data",
          "data": {
            "text/plain": [
              "<IPython.core.display.HTML object>"
            ],
            "text/html": [
              "\n",
              "    <div id=\"start-button-container\" style=\"position: absolute; top: 45%; left: 45%; width: 10%; height: 10%;\">\n",
              "        <button id=\"start-button\" style=\"width:100%; height:100%;\" onclick=\"startProgram()\">Iniciar</button>\n",
              "    </div>\n",
              "    <script>\n",
              "    var startTime;\n",
              "    function startTimer() {\n",
              "        startTime = new Date().getTime();\n",
              "    }\n",
              "\n",
              "    function startProgram() {\n",
              "        var endTime = new Date().getTime();\n",
              "        var reactionTime = (endTime - startTime) / 1000;  // Tiempo en segundos\n",
              "        google.colab.kernel.invokeFunction('notebook.startReactionTime', [reactionTime], {});  // Enviar el tiempo a Python\n",
              "        document.getElementById('start-button-container').remove();  // Eliminar botón \"Iniciar\"\n",
              "    }\n",
              "\n",
              "    startTimer();  // Iniciar el temporizador al cargar la página\n",
              "    </script>\n",
              "    "
            ]
          },
          "metadata": {}
        },
        {
          "output_type": "stream",
          "name": "stdout",
          "text": [
            "Tiempo de reacción para el botón 'Iniciar': 7.915 segundos\n"
          ]
        },
        {
          "output_type": "display_data",
          "data": {
            "text/plain": [
              "<IPython.core.display.HTML object>"
            ],
            "text/html": [
              "\n",
              "    <div id=\"button-container\" style=\"position: absolute; top: 22%; left: 65%; width: 10%; height: 10%;\">\n",
              "        <button id=\"target\" style=\"width:100%; height:100%;\" onclick=\"buttonClicked()\">Haz clic aquí</button>\n",
              "    </div>\n",
              "    <script>\n",
              "    var startTime;\n",
              "    function startTimer() {\n",
              "        startTime = new Date().getTime();\n",
              "    }\n",
              "\n",
              "    function buttonClicked() {\n",
              "        var endTime = new Date().getTime();\n",
              "        var reactionTime = (endTime - startTime) / 1000;  // Tiempo en segundos\n",
              "        google.colab.kernel.invokeFunction('notebook.reactionTime', [reactionTime], {});  // Enviar el tiempo a Python\n",
              "        document.getElementById('button-container').remove();  // Eliminar el botón actual\n",
              "    }\n",
              "\n",
              "    startTimer();  // Iniciar el temporizador cuando se cargue la página\n",
              "    </script>\n",
              "    "
            ]
          },
          "metadata": {}
        },
        {
          "output_type": "stream",
          "name": "stdout",
          "text": [
            "Intento 1 en el Nivel 1: Tiempo de reacción: 1.150 segundos\n"
          ]
        },
        {
          "output_type": "display_data",
          "data": {
            "text/plain": [
              "<IPython.core.display.HTML object>"
            ],
            "text/html": [
              "\n",
              "    <div id=\"button-container\" style=\"position: absolute; top: 78%; left: 3%; width: 10%; height: 10%;\">\n",
              "        <button id=\"target\" style=\"width:100%; height:100%;\" onclick=\"buttonClicked()\">Haz clic aquí</button>\n",
              "    </div>\n",
              "    <script>\n",
              "    var startTime;\n",
              "    function startTimer() {\n",
              "        startTime = new Date().getTime();\n",
              "    }\n",
              "\n",
              "    function buttonClicked() {\n",
              "        var endTime = new Date().getTime();\n",
              "        var reactionTime = (endTime - startTime) / 1000;  // Tiempo en segundos\n",
              "        google.colab.kernel.invokeFunction('notebook.reactionTime', [reactionTime], {});  // Enviar el tiempo a Python\n",
              "        document.getElementById('button-container').remove();  // Eliminar el botón actual\n",
              "    }\n",
              "\n",
              "    startTimer();  // Iniciar el temporizador cuando se cargue la página\n",
              "    </script>\n",
              "    "
            ]
          },
          "metadata": {}
        },
        {
          "output_type": "stream",
          "name": "stdout",
          "text": [
            "Intento 2 en el Nivel 1: Tiempo de reacción: 1.567 segundos\n"
          ]
        },
        {
          "output_type": "display_data",
          "data": {
            "text/plain": [
              "<IPython.core.display.HTML object>"
            ],
            "text/html": [
              "\n",
              "    <div id=\"button-container\" style=\"position: absolute; top: 1%; left: 88%; width: 10%; height: 10%;\">\n",
              "        <button id=\"target\" style=\"width:100%; height:100%;\" onclick=\"buttonClicked()\">Haz clic aquí</button>\n",
              "    </div>\n",
              "    <script>\n",
              "    var startTime;\n",
              "    function startTimer() {\n",
              "        startTime = new Date().getTime();\n",
              "    }\n",
              "\n",
              "    function buttonClicked() {\n",
              "        var endTime = new Date().getTime();\n",
              "        var reactionTime = (endTime - startTime) / 1000;  // Tiempo en segundos\n",
              "        google.colab.kernel.invokeFunction('notebook.reactionTime', [reactionTime], {});  // Enviar el tiempo a Python\n",
              "        document.getElementById('button-container').remove();  // Eliminar el botón actual\n",
              "    }\n",
              "\n",
              "    startTimer();  // Iniciar el temporizador cuando se cargue la página\n",
              "    </script>\n",
              "    "
            ]
          },
          "metadata": {}
        },
        {
          "output_type": "stream",
          "name": "stdout",
          "text": [
            "Intento 3 en el Nivel 1: Tiempo de reacción: 1.461 segundos\n"
          ]
        },
        {
          "output_type": "display_data",
          "data": {
            "text/plain": [
              "<IPython.core.display.HTML object>"
            ],
            "text/html": [
              "\n",
              "    <div id=\"button-container\" style=\"position: absolute; top: 36%; left: 17%; width: 10%; height: 10%;\">\n",
              "        <button id=\"target\" style=\"width:100%; height:100%;\" onclick=\"buttonClicked()\">Haz clic aquí</button>\n",
              "    </div>\n",
              "    <script>\n",
              "    var startTime;\n",
              "    function startTimer() {\n",
              "        startTime = new Date().getTime();\n",
              "    }\n",
              "\n",
              "    function buttonClicked() {\n",
              "        var endTime = new Date().getTime();\n",
              "        var reactionTime = (endTime - startTime) / 1000;  // Tiempo en segundos\n",
              "        google.colab.kernel.invokeFunction('notebook.reactionTime', [reactionTime], {});  // Enviar el tiempo a Python\n",
              "        document.getElementById('button-container').remove();  // Eliminar el botón actual\n",
              "    }\n",
              "\n",
              "    startTimer();  // Iniciar el temporizador cuando se cargue la página\n",
              "    </script>\n",
              "    "
            ]
          },
          "metadata": {}
        },
        {
          "output_type": "stream",
          "name": "stdout",
          "text": [
            "Intento 4 en el Nivel 1: Tiempo de reacción: 1.187 segundos\n"
          ]
        },
        {
          "output_type": "display_data",
          "data": {
            "text/plain": [
              "<IPython.core.display.HTML object>"
            ],
            "text/html": [
              "\n",
              "    <div id=\"button-container\" style=\"position: absolute; top: 86%; left: 6%; width: 10%; height: 10%;\">\n",
              "        <button id=\"target\" style=\"width:100%; height:100%;\" onclick=\"buttonClicked()\">Haz clic aquí</button>\n",
              "    </div>\n",
              "    <script>\n",
              "    var startTime;\n",
              "    function startTimer() {\n",
              "        startTime = new Date().getTime();\n",
              "    }\n",
              "\n",
              "    function buttonClicked() {\n",
              "        var endTime = new Date().getTime();\n",
              "        var reactionTime = (endTime - startTime) / 1000;  // Tiempo en segundos\n",
              "        google.colab.kernel.invokeFunction('notebook.reactionTime', [reactionTime], {});  // Enviar el tiempo a Python\n",
              "        document.getElementById('button-container').remove();  // Eliminar el botón actual\n",
              "    }\n",
              "\n",
              "    startTimer();  // Iniciar el temporizador cuando se cargue la página\n",
              "    </script>\n",
              "    "
            ]
          },
          "metadata": {}
        },
        {
          "output_type": "stream",
          "name": "stdout",
          "text": [
            "Intento 5 en el Nivel 1: Tiempo de reacción: 1.564 segundos\n"
          ]
        },
        {
          "output_type": "display_data",
          "data": {
            "text/plain": [
              "<IPython.core.display.HTML object>"
            ],
            "text/html": [
              "\n",
              "    <div id=\"level-message\" style=\"position: absolute; top: 40%; left: 40%; width: 20%; height: 20%; background-color: yellow; font-size: 24px; text-align: center;\">\n",
              "        <p>Nivel 2</p>\n",
              "    </div>\n",
              "    <script>\n",
              "    setTimeout(function() {\n",
              "        document.getElementById('level-message').remove();\n",
              "    }, 4000);  // Eliminar el mensaje después de 4 segundos\n",
              "    "
            ]
          },
          "metadata": {}
        },
        {
          "output_type": "display_data",
          "data": {
            "text/plain": [
              "<IPython.core.display.HTML object>"
            ],
            "text/html": [
              "\n",
              "    <div id=\"button-container\" style=\"position: absolute; top: 73%; left: 88%; width: 10%; height: 10%;\">\n",
              "        <button id=\"target\" style=\"width:100%; height:100%;\" onclick=\"buttonClicked()\">Haz clic aquí</button>\n",
              "    </div>\n",
              "    <script>\n",
              "    var startTime;\n",
              "    function startTimer() {\n",
              "        startTime = new Date().getTime();\n",
              "    }\n",
              "\n",
              "    function buttonClicked() {\n",
              "        var endTime = new Date().getTime();\n",
              "        var reactionTime = (endTime - startTime) / 1000;  // Tiempo en segundos\n",
              "        google.colab.kernel.invokeFunction('notebook.reactionTime', [reactionTime], {});  // Enviar el tiempo a Python\n",
              "        document.getElementById('button-container').remove();  // Eliminar el botón actual\n",
              "    }\n",
              "\n",
              "    startTimer();  // Iniciar el temporizador cuando se cargue la página\n",
              "    </script>\n",
              "    "
            ]
          },
          "metadata": {}
        },
        {
          "output_type": "stream",
          "name": "stdout",
          "text": [
            "Intento 1 en el Nivel 2: Tiempo de reacción: 1.511 segundos\n"
          ]
        },
        {
          "output_type": "display_data",
          "data": {
            "text/plain": [
              "<IPython.core.display.HTML object>"
            ],
            "text/html": [
              "\n",
              "    <div id=\"button-container\" style=\"position: absolute; top: 89%; left: 62%; width: 10%; height: 10%;\">\n",
              "        <button id=\"target\" style=\"width:100%; height:100%;\" onclick=\"buttonClicked()\">Haz clic aquí</button>\n",
              "    </div>\n",
              "    <script>\n",
              "    var startTime;\n",
              "    function startTimer() {\n",
              "        startTime = new Date().getTime();\n",
              "    }\n",
              "\n",
              "    function buttonClicked() {\n",
              "        var endTime = new Date().getTime();\n",
              "        var reactionTime = (endTime - startTime) / 1000;  // Tiempo en segundos\n",
              "        google.colab.kernel.invokeFunction('notebook.reactionTime', [reactionTime], {});  // Enviar el tiempo a Python\n",
              "        document.getElementById('button-container').remove();  // Eliminar el botón actual\n",
              "    }\n",
              "\n",
              "    startTimer();  // Iniciar el temporizador cuando se cargue la página\n",
              "    </script>\n",
              "    "
            ]
          },
          "metadata": {}
        },
        {
          "output_type": "stream",
          "name": "stdout",
          "text": [
            "Intento 2 en el Nivel 2: Tiempo de reacción: 1.596 segundos\n"
          ]
        },
        {
          "output_type": "display_data",
          "data": {
            "text/plain": [
              "<IPython.core.display.HTML object>"
            ],
            "text/html": [
              "\n",
              "    <div id=\"button-container\" style=\"position: absolute; top: 89%; left: 55%; width: 10%; height: 10%;\">\n",
              "        <button id=\"target\" style=\"width:100%; height:100%;\" onclick=\"buttonClicked()\">Haz clic aquí</button>\n",
              "    </div>\n",
              "    <script>\n",
              "    var startTime;\n",
              "    function startTimer() {\n",
              "        startTime = new Date().getTime();\n",
              "    }\n",
              "\n",
              "    function buttonClicked() {\n",
              "        var endTime = new Date().getTime();\n",
              "        var reactionTime = (endTime - startTime) / 1000;  // Tiempo en segundos\n",
              "        google.colab.kernel.invokeFunction('notebook.reactionTime', [reactionTime], {});  // Enviar el tiempo a Python\n",
              "        document.getElementById('button-container').remove();  // Eliminar el botón actual\n",
              "    }\n",
              "\n",
              "    startTimer();  // Iniciar el temporizador cuando se cargue la página\n",
              "    </script>\n",
              "    "
            ]
          },
          "metadata": {}
        },
        {
          "output_type": "stream",
          "name": "stdout",
          "text": [
            "Intento 3 en el Nivel 2: Tiempo de reacción: 1.706 segundos\n"
          ]
        },
        {
          "output_type": "display_data",
          "data": {
            "text/plain": [
              "<IPython.core.display.HTML object>"
            ],
            "text/html": [
              "\n",
              "    <div id=\"button-container\" style=\"position: absolute; top: 35%; left: 84%; width: 10%; height: 10%;\">\n",
              "        <button id=\"target\" style=\"width:100%; height:100%;\" onclick=\"buttonClicked()\">Haz clic aquí</button>\n",
              "    </div>\n",
              "    <script>\n",
              "    var startTime;\n",
              "    function startTimer() {\n",
              "        startTime = new Date().getTime();\n",
              "    }\n",
              "\n",
              "    function buttonClicked() {\n",
              "        var endTime = new Date().getTime();\n",
              "        var reactionTime = (endTime - startTime) / 1000;  // Tiempo en segundos\n",
              "        google.colab.kernel.invokeFunction('notebook.reactionTime', [reactionTime], {});  // Enviar el tiempo a Python\n",
              "        document.getElementById('button-container').remove();  // Eliminar el botón actual\n",
              "    }\n",
              "\n",
              "    startTimer();  // Iniciar el temporizador cuando se cargue la página\n",
              "    </script>\n",
              "    "
            ]
          },
          "metadata": {}
        },
        {
          "output_type": "stream",
          "name": "stdout",
          "text": [
            "Intento 4 en el Nivel 2: Tiempo de reacción: 1.393 segundos\n"
          ]
        },
        {
          "output_type": "display_data",
          "data": {
            "text/plain": [
              "<IPython.core.display.HTML object>"
            ],
            "text/html": [
              "\n",
              "    <div id=\"button-container\" style=\"position: absolute; top: 46%; left: 34%; width: 10%; height: 10%;\">\n",
              "        <button id=\"target\" style=\"width:100%; height:100%;\" onclick=\"buttonClicked()\">Haz clic aquí</button>\n",
              "    </div>\n",
              "    <script>\n",
              "    var startTime;\n",
              "    function startTimer() {\n",
              "        startTime = new Date().getTime();\n",
              "    }\n",
              "\n",
              "    function buttonClicked() {\n",
              "        var endTime = new Date().getTime();\n",
              "        var reactionTime = (endTime - startTime) / 1000;  // Tiempo en segundos\n",
              "        google.colab.kernel.invokeFunction('notebook.reactionTime', [reactionTime], {});  // Enviar el tiempo a Python\n",
              "        document.getElementById('button-container').remove();  // Eliminar el botón actual\n",
              "    }\n",
              "\n",
              "    startTimer();  // Iniciar el temporizador cuando se cargue la página\n",
              "    </script>\n",
              "    "
            ]
          },
          "metadata": {}
        },
        {
          "output_type": "stream",
          "name": "stdout",
          "text": [
            "Intento 5 en el Nivel 2: Tiempo de reacción: 1.087 segundos\n"
          ]
        },
        {
          "output_type": "display_data",
          "data": {
            "text/plain": [
              "<IPython.core.display.HTML object>"
            ],
            "text/html": [
              "\n",
              "    <div id=\"level-message\" style=\"position: absolute; top: 40%; left: 40%; width: 20%; height: 20%; background-color: yellow; font-size: 24px; text-align: center;\">\n",
              "        <p>Nivel 3</p>\n",
              "    </div>\n",
              "    <script>\n",
              "    setTimeout(function() {\n",
              "        document.getElementById('level-message').remove();\n",
              "    }, 4000);  // Eliminar el mensaje después de 4 segundos\n",
              "    "
            ]
          },
          "metadata": {}
        },
        {
          "output_type": "display_data",
          "data": {
            "text/plain": [
              "<IPython.core.display.HTML object>"
            ],
            "text/html": [
              "\n",
              "    <div id=\"button-container\" style=\"position: absolute; top: 28%; left: 77%; width: 10%; height: 10%;\">\n",
              "        <button id=\"target\" style=\"width:100%; height:100%;\" onclick=\"buttonClicked()\">Haz clic aquí</button>\n",
              "    </div>\n",
              "    <script>\n",
              "    var startTime;\n",
              "    function startTimer() {\n",
              "        startTime = new Date().getTime();\n",
              "    }\n",
              "\n",
              "    function buttonClicked() {\n",
              "        var endTime = new Date().getTime();\n",
              "        var reactionTime = (endTime - startTime) / 1000;  // Tiempo en segundos\n",
              "        google.colab.kernel.invokeFunction('notebook.reactionTime', [reactionTime], {});  // Enviar el tiempo a Python\n",
              "        document.getElementById('button-container').remove();  // Eliminar el botón actual\n",
              "    }\n",
              "\n",
              "    startTimer();  // Iniciar el temporizador cuando se cargue la página\n",
              "    </script>\n",
              "    "
            ]
          },
          "metadata": {}
        },
        {
          "output_type": "stream",
          "name": "stdout",
          "text": [
            "Intento 1 en el Nivel 3: Tiempo de reacción: 2.082 segundos\n"
          ]
        },
        {
          "output_type": "display_data",
          "data": {
            "text/plain": [
              "<IPython.core.display.HTML object>"
            ],
            "text/html": [
              "\n",
              "    <div id=\"button-container\" style=\"position: absolute; top: 81%; left: 23%; width: 10%; height: 10%;\">\n",
              "        <button id=\"target\" style=\"width:100%; height:100%;\" onclick=\"buttonClicked()\">Haz clic aquí</button>\n",
              "    </div>\n",
              "    <script>\n",
              "    var startTime;\n",
              "    function startTimer() {\n",
              "        startTime = new Date().getTime();\n",
              "    }\n",
              "\n",
              "    function buttonClicked() {\n",
              "        var endTime = new Date().getTime();\n",
              "        var reactionTime = (endTime - startTime) / 1000;  // Tiempo en segundos\n",
              "        google.colab.kernel.invokeFunction('notebook.reactionTime', [reactionTime], {});  // Enviar el tiempo a Python\n",
              "        document.getElementById('button-container').remove();  // Eliminar el botón actual\n",
              "    }\n",
              "\n",
              "    startTimer();  // Iniciar el temporizador cuando se cargue la página\n",
              "    </script>\n",
              "    "
            ]
          },
          "metadata": {}
        },
        {
          "output_type": "stream",
          "name": "stdout",
          "text": [
            "Intento 2 en el Nivel 3: Tiempo de reacción: 2.302 segundos\n"
          ]
        },
        {
          "output_type": "display_data",
          "data": {
            "text/plain": [
              "<IPython.core.display.HTML object>"
            ],
            "text/html": [
              "\n",
              "    <div id=\"button-container\" style=\"position: absolute; top: 27%; left: 20%; width: 10%; height: 10%;\">\n",
              "        <button id=\"target\" style=\"width:100%; height:100%;\" onclick=\"buttonClicked()\">Haz clic aquí</button>\n",
              "    </div>\n",
              "    <script>\n",
              "    var startTime;\n",
              "    function startTimer() {\n",
              "        startTime = new Date().getTime();\n",
              "    }\n",
              "\n",
              "    function buttonClicked() {\n",
              "        var endTime = new Date().getTime();\n",
              "        var reactionTime = (endTime - startTime) / 1000;  // Tiempo en segundos\n",
              "        google.colab.kernel.invokeFunction('notebook.reactionTime', [reactionTime], {});  // Enviar el tiempo a Python\n",
              "        document.getElementById('button-container').remove();  // Eliminar el botón actual\n",
              "    }\n",
              "\n",
              "    startTimer();  // Iniciar el temporizador cuando se cargue la página\n",
              "    </script>\n",
              "    "
            ]
          },
          "metadata": {}
        },
        {
          "output_type": "stream",
          "name": "stdout",
          "text": [
            "Intento 3 en el Nivel 3: Tiempo de reacción: 2.837 segundos\n"
          ]
        },
        {
          "output_type": "display_data",
          "data": {
            "text/plain": [
              "<IPython.core.display.HTML object>"
            ],
            "text/html": [
              "\n",
              "    <div id=\"button-container\" style=\"position: absolute; top: 88%; left: 82%; width: 10%; height: 10%;\">\n",
              "        <button id=\"target\" style=\"width:100%; height:100%;\" onclick=\"buttonClicked()\">Haz clic aquí</button>\n",
              "    </div>\n",
              "    <script>\n",
              "    var startTime;\n",
              "    function startTimer() {\n",
              "        startTime = new Date().getTime();\n",
              "    }\n",
              "\n",
              "    function buttonClicked() {\n",
              "        var endTime = new Date().getTime();\n",
              "        var reactionTime = (endTime - startTime) / 1000;  // Tiempo en segundos\n",
              "        google.colab.kernel.invokeFunction('notebook.reactionTime', [reactionTime], {});  // Enviar el tiempo a Python\n",
              "        document.getElementById('button-container').remove();  // Eliminar el botón actual\n",
              "    }\n",
              "\n",
              "    startTimer();  // Iniciar el temporizador cuando se cargue la página\n",
              "    </script>\n",
              "    "
            ]
          },
          "metadata": {}
        },
        {
          "output_type": "stream",
          "name": "stdout",
          "text": [
            "Intento 4 en el Nivel 3: Tiempo de reacción: 2.068 segundos\n"
          ]
        },
        {
          "output_type": "display_data",
          "data": {
            "text/plain": [
              "<IPython.core.display.HTML object>"
            ],
            "text/html": [
              "\n",
              "    <div id=\"button-container\" style=\"position: absolute; top: 8%; left: 34%; width: 10%; height: 10%;\">\n",
              "        <button id=\"target\" style=\"width:100%; height:100%;\" onclick=\"buttonClicked()\">Haz clic aquí</button>\n",
              "    </div>\n",
              "    <script>\n",
              "    var startTime;\n",
              "    function startTimer() {\n",
              "        startTime = new Date().getTime();\n",
              "    }\n",
              "\n",
              "    function buttonClicked() {\n",
              "        var endTime = new Date().getTime();\n",
              "        var reactionTime = (endTime - startTime) / 1000;  // Tiempo en segundos\n",
              "        google.colab.kernel.invokeFunction('notebook.reactionTime', [reactionTime], {});  // Enviar el tiempo a Python\n",
              "        document.getElementById('button-container').remove();  // Eliminar el botón actual\n",
              "    }\n",
              "\n",
              "    startTimer();  // Iniciar el temporizador cuando se cargue la página\n",
              "    </script>\n",
              "    "
            ]
          },
          "metadata": {}
        },
        {
          "output_type": "stream",
          "name": "stdout",
          "text": [
            "Intento 5 en el Nivel 3: Tiempo de reacción: 1.604 segundos\n"
          ]
        },
        {
          "output_type": "display_data",
          "data": {
            "text/plain": [
              "<IPython.core.display.HTML object>"
            ],
            "text/html": [
              "\n",
              "    <div id=\"level-message\" style=\"position: absolute; top: 40%; left: 40%; width: 20%; height: 20%; background-color: yellow; font-size: 24px; text-align: center;\">\n",
              "        <p>Nivel 4</p>\n",
              "    </div>\n",
              "    <script>\n",
              "    setTimeout(function() {\n",
              "        document.getElementById('level-message').remove();\n",
              "    }, 4000);  // Eliminar el mensaje después de 4 segundos\n",
              "    "
            ]
          },
          "metadata": {}
        },
        {
          "output_type": "display_data",
          "data": {
            "text/plain": [
              "<IPython.core.display.HTML object>"
            ],
            "text/html": [
              "\n",
              "    <div id=\"button-container\" style=\"position: absolute; top: 13%; left: 6%; width: 10%; height: 10%;\">\n",
              "        <button id=\"target\" style=\"width:100%; height:100%;\" onclick=\"buttonClicked()\">Haz clic aquí</button>\n",
              "    </div>\n",
              "    <script>\n",
              "    var startTime;\n",
              "    function startTimer() {\n",
              "        startTime = new Date().getTime();\n",
              "    }\n",
              "\n",
              "    function buttonClicked() {\n",
              "        var endTime = new Date().getTime();\n",
              "        var reactionTime = (endTime - startTime) / 1000;  // Tiempo en segundos\n",
              "        google.colab.kernel.invokeFunction('notebook.reactionTime', [reactionTime], {});  // Enviar el tiempo a Python\n",
              "        document.getElementById('button-container').remove();  // Eliminar el botón actual\n",
              "    }\n",
              "\n",
              "    startTimer();  // Iniciar el temporizador cuando se cargue la página\n",
              "    </script>\n",
              "    "
            ]
          },
          "metadata": {}
        },
        {
          "output_type": "stream",
          "name": "stdout",
          "text": [
            "Intento 1 en el Nivel 4: Tiempo de reacción: 1.346 segundos\n"
          ]
        },
        {
          "output_type": "display_data",
          "data": {
            "text/plain": [
              "<IPython.core.display.HTML object>"
            ],
            "text/html": [
              "\n",
              "    <div id=\"button-container\" style=\"position: absolute; top: 30%; left: 79%; width: 10%; height: 10%;\">\n",
              "        <button id=\"target\" style=\"width:100%; height:100%;\" onclick=\"buttonClicked()\">Haz clic aquí</button>\n",
              "    </div>\n",
              "    <script>\n",
              "    var startTime;\n",
              "    function startTimer() {\n",
              "        startTime = new Date().getTime();\n",
              "    }\n",
              "\n",
              "    function buttonClicked() {\n",
              "        var endTime = new Date().getTime();\n",
              "        var reactionTime = (endTime - startTime) / 1000;  // Tiempo en segundos\n",
              "        google.colab.kernel.invokeFunction('notebook.reactionTime', [reactionTime], {});  // Enviar el tiempo a Python\n",
              "        document.getElementById('button-container').remove();  // Eliminar el botón actual\n",
              "    }\n",
              "\n",
              "    startTimer();  // Iniciar el temporizador cuando se cargue la página\n",
              "    </script>\n",
              "    "
            ]
          },
          "metadata": {}
        },
        {
          "output_type": "stream",
          "name": "stdout",
          "text": [
            "Intento 2 en el Nivel 4: Tiempo de reacción: 1.692 segundos\n"
          ]
        },
        {
          "output_type": "display_data",
          "data": {
            "text/plain": [
              "<IPython.core.display.HTML object>"
            ],
            "text/html": [
              "\n",
              "    <div id=\"button-container\" style=\"position: absolute; top: 1%; left: 54%; width: 10%; height: 10%;\">\n",
              "        <button id=\"target\" style=\"width:100%; height:100%;\" onclick=\"buttonClicked()\">Haz clic aquí</button>\n",
              "    </div>\n",
              "    <script>\n",
              "    var startTime;\n",
              "    function startTimer() {\n",
              "        startTime = new Date().getTime();\n",
              "    }\n",
              "\n",
              "    function buttonClicked() {\n",
              "        var endTime = new Date().getTime();\n",
              "        var reactionTime = (endTime - startTime) / 1000;  // Tiempo en segundos\n",
              "        google.colab.kernel.invokeFunction('notebook.reactionTime', [reactionTime], {});  // Enviar el tiempo a Python\n",
              "        document.getElementById('button-container').remove();  // Eliminar el botón actual\n",
              "    }\n",
              "\n",
              "    startTimer();  // Iniciar el temporizador cuando se cargue la página\n",
              "    </script>\n",
              "    "
            ]
          },
          "metadata": {}
        },
        {
          "output_type": "stream",
          "name": "stdout",
          "text": [
            "Intento 3 en el Nivel 4: Tiempo de reacción: 1.209 segundos\n"
          ]
        },
        {
          "output_type": "display_data",
          "data": {
            "text/plain": [
              "<IPython.core.display.HTML object>"
            ],
            "text/html": [
              "\n",
              "    <div id=\"button-container\" style=\"position: absolute; top: 19%; left: 79%; width: 10%; height: 10%;\">\n",
              "        <button id=\"target\" style=\"width:100%; height:100%;\" onclick=\"buttonClicked()\">Haz clic aquí</button>\n",
              "    </div>\n",
              "    <script>\n",
              "    var startTime;\n",
              "    function startTimer() {\n",
              "        startTime = new Date().getTime();\n",
              "    }\n",
              "\n",
              "    function buttonClicked() {\n",
              "        var endTime = new Date().getTime();\n",
              "        var reactionTime = (endTime - startTime) / 1000;  // Tiempo en segundos\n",
              "        google.colab.kernel.invokeFunction('notebook.reactionTime', [reactionTime], {});  // Enviar el tiempo a Python\n",
              "        document.getElementById('button-container').remove();  // Eliminar el botón actual\n",
              "    }\n",
              "\n",
              "    startTimer();  // Iniciar el temporizador cuando se cargue la página\n",
              "    </script>\n",
              "    "
            ]
          },
          "metadata": {}
        },
        {
          "output_type": "stream",
          "name": "stdout",
          "text": [
            "Intento 4 en el Nivel 4: Tiempo de reacción: 1.195 segundos\n"
          ]
        },
        {
          "output_type": "display_data",
          "data": {
            "text/plain": [
              "<IPython.core.display.HTML object>"
            ],
            "text/html": [
              "\n",
              "    <div id=\"button-container\" style=\"position: absolute; top: 77%; left: 22%; width: 10%; height: 10%;\">\n",
              "        <button id=\"target\" style=\"width:100%; height:100%;\" onclick=\"buttonClicked()\">Haz clic aquí</button>\n",
              "    </div>\n",
              "    <script>\n",
              "    var startTime;\n",
              "    function startTimer() {\n",
              "        startTime = new Date().getTime();\n",
              "    }\n",
              "\n",
              "    function buttonClicked() {\n",
              "        var endTime = new Date().getTime();\n",
              "        var reactionTime = (endTime - startTime) / 1000;  // Tiempo en segundos\n",
              "        google.colab.kernel.invokeFunction('notebook.reactionTime', [reactionTime], {});  // Enviar el tiempo a Python\n",
              "        document.getElementById('button-container').remove();  // Eliminar el botón actual\n",
              "    }\n",
              "\n",
              "    startTimer();  // Iniciar el temporizador cuando se cargue la página\n",
              "    </script>\n",
              "    "
            ]
          },
          "metadata": {}
        },
        {
          "output_type": "stream",
          "name": "stdout",
          "text": [
            "Intento 5 en el Nivel 4: Tiempo de reacción: 1.398 segundos\n"
          ]
        },
        {
          "output_type": "display_data",
          "data": {
            "text/plain": [
              "<IPython.core.display.HTML object>"
            ],
            "text/html": [
              "\n",
              "    <div id=\"level-message\" style=\"position: absolute; top: 40%; left: 40%; width: 20%; height: 20%; background-color: yellow; font-size: 24px; text-align: center;\">\n",
              "        <p>Nivel 5</p>\n",
              "    </div>\n",
              "    <script>\n",
              "    setTimeout(function() {\n",
              "        document.getElementById('level-message').remove();\n",
              "    }, 4000);  // Eliminar el mensaje después de 4 segundos\n",
              "    "
            ]
          },
          "metadata": {}
        },
        {
          "output_type": "display_data",
          "data": {
            "text/plain": [
              "<IPython.core.display.HTML object>"
            ],
            "text/html": [
              "\n",
              "    <div id=\"button-container\" style=\"position: absolute; top: 23%; left: 82%; width: 10%; height: 10%;\">\n",
              "        <button id=\"target\" style=\"width:100%; height:100%;\" onclick=\"buttonClicked()\">Haz clic aquí</button>\n",
              "    </div>\n",
              "    <script>\n",
              "    var startTime;\n",
              "    function startTimer() {\n",
              "        startTime = new Date().getTime();\n",
              "    }\n",
              "\n",
              "    function buttonClicked() {\n",
              "        var endTime = new Date().getTime();\n",
              "        var reactionTime = (endTime - startTime) / 1000;  // Tiempo en segundos\n",
              "        google.colab.kernel.invokeFunction('notebook.reactionTime', [reactionTime], {});  // Enviar el tiempo a Python\n",
              "        document.getElementById('button-container').remove();  // Eliminar el botón actual\n",
              "    }\n",
              "\n",
              "    startTimer();  // Iniciar el temporizador cuando se cargue la página\n",
              "    </script>\n",
              "    "
            ]
          },
          "metadata": {}
        },
        {
          "output_type": "stream",
          "name": "stdout",
          "text": [
            "Intento 1 en el Nivel 5: Tiempo de reacción: 1.380 segundos\n"
          ]
        },
        {
          "output_type": "display_data",
          "data": {
            "text/plain": [
              "<IPython.core.display.HTML object>"
            ],
            "text/html": [
              "\n",
              "    <div id=\"button-container\" style=\"position: absolute; top: 13%; left: 27%; width: 10%; height: 10%;\">\n",
              "        <button id=\"target\" style=\"width:100%; height:100%;\" onclick=\"buttonClicked()\">Haz clic aquí</button>\n",
              "    </div>\n",
              "    <script>\n",
              "    var startTime;\n",
              "    function startTimer() {\n",
              "        startTime = new Date().getTime();\n",
              "    }\n",
              "\n",
              "    function buttonClicked() {\n",
              "        var endTime = new Date().getTime();\n",
              "        var reactionTime = (endTime - startTime) / 1000;  // Tiempo en segundos\n",
              "        google.colab.kernel.invokeFunction('notebook.reactionTime', [reactionTime], {});  // Enviar el tiempo a Python\n",
              "        document.getElementById('button-container').remove();  // Eliminar el botón actual\n",
              "    }\n",
              "\n",
              "    startTimer();  // Iniciar el temporizador cuando se cargue la página\n",
              "    </script>\n",
              "    "
            ]
          },
          "metadata": {}
        },
        {
          "output_type": "stream",
          "name": "stdout",
          "text": [
            "Intento 2 en el Nivel 5: Tiempo de reacción: 1.612 segundos\n"
          ]
        },
        {
          "output_type": "display_data",
          "data": {
            "text/plain": [
              "<IPython.core.display.HTML object>"
            ],
            "text/html": [
              "\n",
              "    <div id=\"button-container\" style=\"position: absolute; top: 48%; left: 58%; width: 10%; height: 10%;\">\n",
              "        <button id=\"target\" style=\"width:100%; height:100%;\" onclick=\"buttonClicked()\">Haz clic aquí</button>\n",
              "    </div>\n",
              "    <script>\n",
              "    var startTime;\n",
              "    function startTimer() {\n",
              "        startTime = new Date().getTime();\n",
              "    }\n",
              "\n",
              "    function buttonClicked() {\n",
              "        var endTime = new Date().getTime();\n",
              "        var reactionTime = (endTime - startTime) / 1000;  // Tiempo en segundos\n",
              "        google.colab.kernel.invokeFunction('notebook.reactionTime', [reactionTime], {});  // Enviar el tiempo a Python\n",
              "        document.getElementById('button-container').remove();  // Eliminar el botón actual\n",
              "    }\n",
              "\n",
              "    startTimer();  // Iniciar el temporizador cuando se cargue la página\n",
              "    </script>\n",
              "    "
            ]
          },
          "metadata": {}
        },
        {
          "output_type": "stream",
          "name": "stdout",
          "text": [
            "Intento 3 en el Nivel 5: Tiempo de reacción: 1.136 segundos\n"
          ]
        },
        {
          "output_type": "display_data",
          "data": {
            "text/plain": [
              "<IPython.core.display.HTML object>"
            ],
            "text/html": [
              "\n",
              "    <div id=\"button-container\" style=\"position: absolute; top: 19%; left: 89%; width: 10%; height: 10%;\">\n",
              "        <button id=\"target\" style=\"width:100%; height:100%;\" onclick=\"buttonClicked()\">Haz clic aquí</button>\n",
              "    </div>\n",
              "    <script>\n",
              "    var startTime;\n",
              "    function startTimer() {\n",
              "        startTime = new Date().getTime();\n",
              "    }\n",
              "\n",
              "    function buttonClicked() {\n",
              "        var endTime = new Date().getTime();\n",
              "        var reactionTime = (endTime - startTime) / 1000;  // Tiempo en segundos\n",
              "        google.colab.kernel.invokeFunction('notebook.reactionTime', [reactionTime], {});  // Enviar el tiempo a Python\n",
              "        document.getElementById('button-container').remove();  // Eliminar el botón actual\n",
              "    }\n",
              "\n",
              "    startTimer();  // Iniciar el temporizador cuando se cargue la página\n",
              "    </script>\n",
              "    "
            ]
          },
          "metadata": {}
        },
        {
          "output_type": "stream",
          "name": "stdout",
          "text": [
            "Intento 4 en el Nivel 5: Tiempo de reacción: 1.467 segundos\n"
          ]
        },
        {
          "output_type": "display_data",
          "data": {
            "text/plain": [
              "<IPython.core.display.HTML object>"
            ],
            "text/html": [
              "\n",
              "    <div id=\"button-container\" style=\"position: absolute; top: 41%; left: 0%; width: 10%; height: 10%;\">\n",
              "        <button id=\"target\" style=\"width:100%; height:100%;\" onclick=\"buttonClicked()\">Haz clic aquí</button>\n",
              "    </div>\n",
              "    <script>\n",
              "    var startTime;\n",
              "    function startTimer() {\n",
              "        startTime = new Date().getTime();\n",
              "    }\n",
              "\n",
              "    function buttonClicked() {\n",
              "        var endTime = new Date().getTime();\n",
              "        var reactionTime = (endTime - startTime) / 1000;  // Tiempo en segundos\n",
              "        google.colab.kernel.invokeFunction('notebook.reactionTime', [reactionTime], {});  // Enviar el tiempo a Python\n",
              "        document.getElementById('button-container').remove();  // Eliminar el botón actual\n",
              "    }\n",
              "\n",
              "    startTimer();  // Iniciar el temporizador cuando se cargue la página\n",
              "    </script>\n",
              "    "
            ]
          },
          "metadata": {}
        },
        {
          "output_type": "stream",
          "name": "stdout",
          "text": [
            "Intento 5 en el Nivel 5: Tiempo de reacción: 1.512 segundos\n",
            "¡Has completado todos los niveles! El programa ha terminado.\n"
          ]
        },
        {
          "output_type": "display_data",
          "data": {
            "text/plain": [
              "<IPython.core.display.HTML object>"
            ],
            "text/html": [
              "<h3 style=\"color:red;\">El programa ha terminado. No puedes hacer más clics.</h3>"
            ]
          },
          "metadata": {}
        }
      ],
      "source": [
        "from IPython.display import display, HTML\n",
        "import random\n",
        "import time\n",
        "\n",
        "# Variables\n",
        "num_intentos_por_nivel = 5  # Número de intentos por nivel\n",
        "total_niveles = 5  # Número total de niveles\n",
        "velocidad_niveles = [4.0, 3.0, 2.0, 1.0, 0.5]  # Velocidades de cada nivel\n",
        "contador_intentos = 0  # Contador de clics\n",
        "nivel_actual = 1  # Nivel inicial\n",
        "juego_terminado = False\n",
        "\n",
        "# Se generar el botón \"Iniciar\" y se mide el tiempo de inicio\n",
        "def generate_start_button():\n",
        "    html_code = '''\n",
        "    <div id=\"start-button-container\" style=\"position: absolute; top: 45%; left: 45%; width: 10%; height: 10%;\">\n",
        "        <button id=\"start-button\" style=\"width:100%; height:100%;\" onclick=\"startProgram()\">Iniciar</button>\n",
        "    </div>\n",
        "    <script>\n",
        "    var startTime;\n",
        "    function startTimer() {\n",
        "        startTime = new Date().getTime();\n",
        "    }\n",
        "\n",
        "    function startProgram() {\n",
        "        var endTime = new Date().getTime();\n",
        "        var reactionTime = (endTime - startTime) / 1000;  // Tiempo en segundos\n",
        "        google.colab.kernel.invokeFunction('notebook.startReactionTime', [reactionTime], {});  // Enviar el tiempo a Python\n",
        "        document.getElementById('start-button-container').remove();  // Eliminar botón \"Iniciar\"\n",
        "    }\n",
        "\n",
        "    startTimer();  // Iniciar el temporizador al cargar la página\n",
        "    </script>\n",
        "    '''\n",
        "    return html_code\n",
        "\n",
        "# Generar un botón en una posición aleatoria\n",
        "def generate_html():\n",
        "    x = random.randint(0, 90)  # Posición X aleatoria\n",
        "    y = random.randint(0, 90)  # Posición Y aleatoria\n",
        "    html_code = f'''\n",
        "    <div id=\"button-container\" style=\"position: absolute; top: {y}%; left: {x}%; width: 10%; height: 10%;\">\n",
        "        <button id=\"target\" style=\"width:100%; height:100%;\" onclick=\"buttonClicked()\">Haz clic aquí</button>\n",
        "    </div>\n",
        "    <script>\n",
        "    var startTime;\n",
        "    function startTimer() {{\n",
        "        startTime = new Date().getTime();\n",
        "    }}\n",
        "\n",
        "    function buttonClicked() {{\n",
        "        var endTime = new Date().getTime();\n",
        "        var reactionTime = (endTime - startTime) / 1000;  // Tiempo en segundos\n",
        "        google.colab.kernel.invokeFunction('notebook.reactionTime', [reactionTime], {{}});  // Enviar el tiempo a Python\n",
        "        document.getElementById('button-container').remove();  // Eliminar el botón actual\n",
        "    }}\n",
        "\n",
        "    startTimer();  // Iniciar el temporizador cuando se cargue la página\n",
        "    </script>\n",
        "    '''\n",
        "    return html_code\n",
        "\n",
        "# Mostrar el mensaje de cambio de nivel\n",
        "def show_level_message(level):\n",
        "    html_code = f'''\n",
        "    <div id=\"level-message\" style=\"position: absolute; top: 40%; left: 40%; width: 20%; height: 20%; background-color: yellow; font-size: 24px; text-align: center;\">\n",
        "        <p>Nivel {level}</p>\n",
        "    </div>\n",
        "    <script>\n",
        "    setTimeout(function() {{\n",
        "        document.getElementById('level-message').remove();\n",
        "    }}, 4000);  // Eliminar el mensaje después de 4 segundos\n",
        "    '''\n",
        "    display(HTML(html_code))\n",
        "    time.sleep(4)  # Pausar el programa por 4 segundos para mostrar el mensaje de cambio de nivel\n",
        "\n",
        "# Función para mostrar el botón aleatorio según el nivel\n",
        "def show_button():\n",
        "    global contador_intentos, nivel_actual, num_intentos_por_nivel, total_niveles, juego_terminado\n",
        "    # Mostrar el botón con el tiempo de retardo que corresponde al nivel\n",
        "    time.sleep(velocidad_niveles[nivel_actual - 1])  # Reducir la velocidad según el nivel actual\n",
        "    display(HTML(generate_html()))\n",
        "\n",
        "# Función para recibir el tiempo de reacción desde JavaScript para el botón \"Iniciar\"\n",
        "def get_start_reaction_time(reaction_time):\n",
        "    print(f\"Tiempo de reacción para el botón 'Iniciar': {reaction_time:.3f} segundos\")\n",
        "    start_next_level()  # Comenzar los intentos después del clic en \"Iniciar\"\n",
        "\n",
        "# Función para recibir el tiempo de reacción desde JavaScript para los botones del juego\n",
        "def get_reaction_time(reaction_time):\n",
        "    global contador_intentos, nivel_actual, juego_terminado\n",
        "    if not juego_terminado:\n",
        "        contador_intentos += 1\n",
        "        print(f\"Intento {contador_intentos} en el Nivel {nivel_actual}: Tiempo de reacción: {reaction_time:.3f} segundos\")\n",
        "\n",
        "        # si no se han completado los intentos siguen apareciendo los botones\n",
        "        if contador_intentos < num_intentos_por_nivel:\n",
        "            show_button()\n",
        "        else:\n",
        "            # Al terminar los intentos del nivel, pasar al siguiente nivel\n",
        "            if nivel_actual < total_niveles:\n",
        "                nivel_actual += 1\n",
        "                contador_intentos = 0\n",
        "                show_level_message(nivel_actual)  # Mostrar el mensaje de cambio de nivel\n",
        "                time.sleep(4)  # Esperar 4 segundos antes de comenzar el siguiente nivel\n",
        "                start_next_level()  # Comenzar el siguiente nivel\n",
        "            else:\n",
        "                juego_terminado = True\n",
        "                print(\"¡Has completado todos los niveles! El programa ha terminado.\")\n",
        "                display(HTML('<h3 style=\"color:red;\">El programa ha terminado. No puedes hacer más clics.</h3>'))\n",
        "\n",
        "# Función para iniciar el siguiente nivel\n",
        "def start_next_level():\n",
        "    show_button()  # Mostrar el primer botón del nuevo nivel\n",
        "\n",
        "# Conectar el funcionamiento y logica de phyton con la interfaz de usuario generada por java o html\n",
        "from google.colab import output\n",
        "output.register_callback('notebook.startReactionTime', get_start_reaction_time)\n",
        "output.register_callback('notebook.reactionTime', get_reaction_time)\n",
        "\n",
        "# Mostrar el botón \"Iniciar\"\n",
        "display(HTML(generate_start_button()))\n"
      ]
    }
  ]
}