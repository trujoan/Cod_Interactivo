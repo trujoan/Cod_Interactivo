{
  "nbformat": 4,
  "nbformat_minor": 0,
  "metadata": {
    "colab": {
      "provenance": [],
      "authorship_tag": "ABX9TyP56l+expThLwY2pYzpn58d",
      "include_colab_link": true
    },
    "kernelspec": {
      "name": "python3",
      "display_name": "Python 3"
    },
    "language_info": {
      "name": "python"
    }
  },
  "cells": [
    {
      "cell_type": "markdown",
      "metadata": {
        "id": "view-in-github",
        "colab_type": "text"
      },
      "source": [
        "<a href=\"https://colab.research.google.com/github/trujoan/Cod_Interactivo/blob/main/calculadora_de_masa_molar.ipynb\" target=\"_parent\"><img src=\"https://colab.research.google.com/assets/colab-badge.svg\" alt=\"Open In Colab\"/></a>"
      ]
    },
    {
      "cell_type": "markdown",
      "source": [
        "Calculadora de masa molar"
      ],
      "metadata": {
        "id": "vDoN3wKFh8nr"
      }
    },
    {
      "cell_type": "code",
      "execution_count": 1,
      "metadata": {
        "colab": {
          "base_uri": "https://localhost:8080/"
        },
        "id": "j7ntMNyph2An",
        "outputId": "72f0d72e-8712-449a-daeb-28fe010a90f5"
      },
      "outputs": [
        {
          "output_type": "stream",
          "name": "stdout",
          "text": [
            "Collecting periodictable\n",
            "  Downloading periodictable-1.7.1.tar.gz (1.0 MB)\n",
            "\u001b[?25l     \u001b[90m━━━━━━━━━━━━━━━━━━━━━━━━━━━━━━━━━━━━━━━━\u001b[0m \u001b[32m0.0/1.0 MB\u001b[0m \u001b[31m?\u001b[0m eta \u001b[36m-:--:--\u001b[0m\r\u001b[2K     \u001b[91m━━━━━━━━━━━━━\u001b[0m\u001b[90m╺\u001b[0m\u001b[90m━━━━━━━━━━━━━━━━━━━━━━━━━━\u001b[0m \u001b[32m0.3/1.0 MB\u001b[0m \u001b[31m10.4 MB/s\u001b[0m eta \u001b[36m0:00:01\u001b[0m\r\u001b[2K     \u001b[90m━━━━━━━━━━━━━━━━━━━━━━━━━━━━━━━━━━━━━━━━\u001b[0m \u001b[32m1.0/1.0 MB\u001b[0m \u001b[31m12.7 MB/s\u001b[0m eta \u001b[36m0:00:00\u001b[0m\n",
            "\u001b[?25h  Preparing metadata (setup.py) ... \u001b[?25l\u001b[?25hdone\n",
            "Collecting rdkit-pypi\n",
            "  Downloading rdkit_pypi-2022.9.5-cp310-cp310-manylinux_2_17_x86_64.manylinux2014_x86_64.whl.metadata (3.9 kB)\n",
            "Collecting pubchempy\n",
            "  Downloading PubChemPy-1.0.4.tar.gz (29 kB)\n",
            "  Preparing metadata (setup.py) ... \u001b[?25l\u001b[?25hdone\n",
            "Requirement already satisfied: pyparsing in /usr/local/lib/python3.10/dist-packages (from periodictable) (3.2.0)\n",
            "Requirement already satisfied: numpy in /usr/local/lib/python3.10/dist-packages (from periodictable) (1.26.4)\n",
            "Requirement already satisfied: Pillow in /usr/local/lib/python3.10/dist-packages (from rdkit-pypi) (11.0.0)\n",
            "Downloading rdkit_pypi-2022.9.5-cp310-cp310-manylinux_2_17_x86_64.manylinux2014_x86_64.whl (29.4 MB)\n",
            "\u001b[2K   \u001b[90m━━━━━━━━━━━━━━━━━━━━━━━━━━━━━━━━━━━━━━━━\u001b[0m \u001b[32m29.4/29.4 MB\u001b[0m \u001b[31m42.0 MB/s\u001b[0m eta \u001b[36m0:00:00\u001b[0m\n",
            "\u001b[?25hBuilding wheels for collected packages: periodictable, pubchempy\n",
            "  Building wheel for periodictable (setup.py) ... \u001b[?25l\u001b[?25hdone\n",
            "  Created wheel for periodictable: filename=periodictable-1.7.1-py3-none-any.whl size=752513 sha256=86370f8c3a1f3db18b5309c07fa50a340d6aeeb27f4a8720818252e0a4cdd29a\n",
            "  Stored in directory: /root/.cache/pip/wheels/55/2b/21/c35cc7b4e26fffa3ec4f32a74bd09ce6ce04ba7535dd0b92f2\n",
            "  Building wheel for pubchempy (setup.py) ... \u001b[?25l\u001b[?25hdone\n",
            "  Created wheel for pubchempy: filename=PubChemPy-1.0.4-py3-none-any.whl size=13819 sha256=9d851731216b24bae4a1a3ddb04f96b77d4efc097607bb1d0b9189f0e79d6ab9\n",
            "  Stored in directory: /root/.cache/pip/wheels/90/7c/45/18a0671e3c3316966ef7ed9ad2b3f3300a7e41d3421a44e799\n",
            "Successfully built periodictable pubchempy\n",
            "Installing collected packages: pubchempy, rdkit-pypi, periodictable\n",
            "Successfully installed periodictable-1.7.1 pubchempy-1.0.4 rdkit-pypi-2022.9.5\n"
          ]
        }
      ],
      "source": [
        "!pip install periodictable rdkit-pypi pubchempy"
      ]
    },
    {
      "cell_type": "code",
      "source": [
        "import periodictable\n",
        "import re\n",
        "from rdkit import Chem\n",
        "from rdkit.Chem import Draw\n",
        "import pubchempy as pcp\n",
        "from IPython.display import display\n",
        "\n",
        "# Diccionario para nombres en español\n",
        "compound_names_es = {\n",
        " 'NaHCO3': 'Bicarbonato de sodio',\n",
        " 'HCl': 'Ácido clorhídrico',\n",
        " 'NaCl': 'Cloruro de sodio',\n",
        " 'H2O': 'Agua',\n",
        " 'CO2': 'Dióxido de carbono',\n",
        " }\n",
        "# Función para traducir el nombre IUPAC a español (básico)\n",
        "def translate_iupac_to_spanish(iupac_name):\n",
        " translations = {\n",
        " 'sodium': 'sodio',\n",
        " 'hydrogen': 'hidrógeno',\n",
        " 'carbonate': 'carbonato',\n",
        " 'chloride': 'cloruro',\n",
        " 'water': 'agua',\n",
        " 'dioxide': 'dióxido',\n",
        " }\n",
        "words = iupac_name.split(';')\n",
        " translated = [translations.get(word.strip(), word.strip()) for word in words]\n",
        " return ' y '.join(translated)\n",
        "\n",
        " def parse_formula(formula): #analiza una formula quimica y devuelve un\n",
        "diccionario con la cantidad de átomos de cada elemento. Usa expresiones regulares\n",
        "para identificar elementos y cantidades en la fórmula.\n",
        "pattern = r'([A-Z][a-z]?)(\\d*)'\n",
        " matches = re.findall(pattern, formula)\n",
        " element_counts = {}\n",
        " for (element, count) in matches:\n",
        " if count == '':\n",
        " count = 1\n",
        " else:\n",
        " count = int(count)\n",
        " element_counts[element] = element_counts.get(element, 0) + count\n",
        " return element_counts\n",
        "def calculate_molar_mass(formula):\n",
        " element_counts = parse_formula(formula)\n",
        " molar_mass = 0.0\n",
        " for element, count in element_counts.items():\n",
        " try:\n",
        " el = getattr(periodictable, element)\n",
        " molar_mass += el.mass * count\n",
        " except AttributeError:\n",
        " print(f\"Elemento {element} no encontrado.\")\n",
        " return molar_mass\n",
        " def draw_molecule(formula):\n",
        " try:\n",
        " compound = pcp.get_compounds(formula, 'formula')[0]\n",
        " smiles = compound.isomeric_smiles\n",
        " mol = Chem.MolFromSmiles(smiles)\n",
        " img = Draw.MolToImage(mol)\n",
        " return img, compound\n",
        " except IndexError:\n",
        " print(f\"No se encontraron compuestos para la fórmula: {formula}\")\n",
        " return None, None\n",
        "except Exception as e:\n",
        " print(f\"Error al dibujar la molécula: {e}\")\n",
        " return None, None\n",
        " def parse_reaction(reaction_str):\n",
        " compounds = re.split(r'\\s*\\+\\s*', reaction_str)\n",
        " return compounds\n",
        "def display_reaction_structures(compounds, moles):\n",
        " total_molar_mass = 0.0\n",
        " for compound in compounds:\n",
        " print(f\"\\nFórmula: {compound}\")\n",
        " molar_mass = calculate_molar_mass(compound)\n",
        " print(f\"Masa molar de {compound}: {molar_mass:.2f} g/mol\")\n",
        " total_molar_mass += molar_mass\n",
        " # Obtener el nombre en español\n",
        " name_es = compound_names_es.get(compound, 'Nombre desconocido')\n",
        " print(f\"Nombre en español: {name_es}\")\n",
        " # Obtener el nombre IUPAC y traducirlo\n",
        " image, info_compuesto = draw_molecule(compound)\n",
        " if image and info_compuesto:\n",
        " display(image)\n",
        " iupac_name = info_compuesto.iupac_name\n",
        " translated_name = translate_iupac_to_spanish(iupac_name)\n",
        " print(f\"Nombre IUPAC en español: {translated_name}\")\n",
        " print(f\"Sinónimos: {', '.join(info_compuesto.synonyms)}\")\n",
        " total_mass = total_molar_mass * moles\n",
        " print(f\"\\nMasa molar total de los compuestos: {total_molar_mass:.2f} g/mol\")\n",
        " print(f\"Masa total para {moles} moles: {total_mass:.2f} g\")\n",
        " def predict_reaction(compounds):\n",
        " reactions = {\n",
        " frozenset(['NaHCO3', 'HCl']): ['NaCl', 'H2O', 'CO2'], # Reacción de\n",
        "bicarbonato de sodio y HCl\n",
        " }\n",
        "compound_set = frozenset(compounds)\n",
        "for reactants, products in reactions.items():\n",
        " if reactants.issubset(compound_set):\n",
        " return products\n",
        " return None\n",
        "def main():\n",
        " print(\"Bienvenido a la calculadora de masa molar y estructura química.\")\n",
        " print(\"Este programa facilita el estudio de la química al proporcionar\n",
        "información sobre compuestos inorgánicos.\")\n",
        " reaction_str = input(\"Ingrese la fórmula química del compuesto o reacción\n",
        "deseada (solo compuestos inorgánicos): \")\n",
        " compounds = parse_reaction(reaction_str)\n",
        " moles = float(input(\"Ingrese la cantidad de moles para evaluar la masa molar:\n",
        "\"))\n",
        "\n",
        "print(\"\\nMostrando estructuras de los reactivos:\")\n",
        " display_reaction_structures(compounds, moles)\n",
        " products = predict_reaction(compounds)\n",
        " if products:\n",
        " print(\"\\nPrediciendo productos de la reacción:\")\n",
        " display_reaction_structures(products, moles)\n",
        " print(f\"\\nReacción: {' + '.join(compounds)} → {' + '.join(products)}\")\n",
        " else:\n",
        " print(\"No se encontraron productos para esta combinación de reactivos.\")\n",
        "if __name__ == \"__main__\":\n",
        " main()\n",
        ""
      ],
      "metadata": {
        "colab": {
          "base_uri": "https://localhost:8080/",
          "height": 106
        },
        "id": "y6SOKxJxiNe6",
        "outputId": "ce1a0a0a-0337-4d5f-9765-d3662060a725"
      },
      "execution_count": 3,
      "outputs": [
        {
          "output_type": "error",
          "ename": "IndentationError",
          "evalue": "unexpected indent (<ipython-input-3-d1e560dc3a09>, line 27)",
          "traceback": [
            "\u001b[0;36m  File \u001b[0;32m\"<ipython-input-3-d1e560dc3a09>\"\u001b[0;36m, line \u001b[0;32m27\u001b[0m\n\u001b[0;31m    translated = [translations.get(word.strip(), word.strip()) for word in words]\u001b[0m\n\u001b[0m    ^\u001b[0m\n\u001b[0;31mIndentationError\u001b[0m\u001b[0;31m:\u001b[0m unexpected indent\n"
          ]
        }
      ]
    }
  ]
}